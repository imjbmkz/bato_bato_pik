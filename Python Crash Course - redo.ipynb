{
 "cells": [
  {
   "cell_type": "markdown",
   "metadata": {},
   "source": [
    "# Python Crash Course\n",
    "## Developing bato-bato pick console game\n",
    "Prepared by: **Josh Valdeleon** <br>\n",
    "Date/Time: **September 1, 2023 9:00 PM PH**"
   ]
  },
  {
   "cell_type": "markdown",
   "metadata": {},
   "source": [
    "### About me 😀\n",
    "\n",
    "**Hustles:**\n",
    "- Business Intelligence Specialist\n",
    "    - Full-time\n",
    "    - Largest real estate company in Ph\n",
    "- Python Developer (e-Commerce)\n",
    "- SQL / VBA Developer (healthcare)\n",
    "- R Developer (data/finance)\n",
    "\n",
    "**Affiliations:**\n",
    "- Tech Career Shifters\n",
    "- Pilipino Power Platform Users Group\n",
    "- Josh Dev FB page 😀"
   ]
  },
  {
   "cell_type": "markdown",
   "metadata": {},
   "source": [
    "### House Rules\n",
    "- Be respectful at all times\n",
    "- Ask questions in the Teams chat or raise your hand before asking\n",
    "- Keep your microphone on mute while someone is talking\n",
    "- Feel free to turn on your camera 😀"
   ]
  },
  {
   "cell_type": "markdown",
   "metadata": {},
   "source": [
    "### Agenda\n",
    "Things<sup>[1]</sup> we'll cover today:\n",
    "\n",
    "- What is Python?\n",
    "- Intro to `.py` file and Jupyter notebook\n",
    "- Syntax (run `.py` file, indentation, variables, comments)\n",
    "- Variables, data types, type casting \n",
    "- Numbers, string, boolean, and operators \n",
    "- Lists, tuples, sets, dictionaries\n",
    "- If-else, while loops, for loops\n",
    "- Functions\n",
    "- Classes/object \n",
    "- Modules\n",
    "- Building our own \"bato-bato pick\" console game\n",
    "\n",
    "<sup>[1]</sup> [W3Schools Python Tutorial](https://www.w3schools.com/python/default.asp)"
   ]
  },
  {
   "cell_type": "markdown",
   "metadata": {},
   "source": [
    "### Pre-requisites for your machine\n",
    "To follow along with the things we’ll do, you should have the following ready in your machine:\n",
    "- [Python](https://www.python.org/downloads/)\n",
    "- [Jupyter Notebook](https://jupyter.org/)\n",
    "- [Visual Studio Code](https://code.visualstudio.com/)\n",
    "    - Python\n",
    "    - Jupyter Notebook\n",
    "- [Google Colaboratory (Colab)](https://colab.research.google.com/?utm_source=scs-index) (*no installation required* 😀)"
   ]
  },
  {
   "cell_type": "markdown",
   "metadata": {},
   "source": [
    "### Intro to Python\n",
    "- It was created by Guido van Rossum, and released in 1991.\n",
    "    - Monty Python's Flying Circus\n",
    "- Used for the following fields:\n",
    "    - Data science and data engineering\n",
    "    - Machine learning\n",
    "    - Software and web development\n",
    "- Why Python?\n",
    "    - Has a simple syntax that’s close to English\n",
    "    - Massive community \n",
    "    - Hundreds of Python libraries and frameworks"
   ]
  },
  {
   "cell_type": "markdown",
   "metadata": {},
   "source": [
    "### Intro to `.py` and Jupyter Notebook\n",
    "- In a terminal, we can run a `.py` file using `python` command\n",
    "    - `$ python hello_world.py`\n",
    "\n",
    "\n",
    "- Jupyter Notebooks is the original web application for creating and sharing computational documents. It offers a simple, streamlined, document-centric experience."
   ]
  },
  {
   "cell_type": "code",
   "execution_count": 2,
   "metadata": {},
   "outputs": [
    {
     "name": "stdout",
     "output_type": "stream",
     "text": [
      "Hello, everyone! Try out Jupyter Notebook. It's great!\n"
     ]
    }
   ],
   "source": [
    "# This is a code cell. We can run our codes here.\n",
    "print(\"Hello, everyone! Try out Jupyter Notebook. It's great!\")"
   ]
  },
  {
   "cell_type": "markdown",
   "metadata": {},
   "source": [
    "This is a markdown cell. \n",
    "\n",
    "We can make: \n",
    "- **bold texts**\n",
    "- *italicized texts*\n",
    "- <u>use HTML tags for advanced formatting like underline</u>. \n",
    "- We can also do LaTeX. Here's the linear regression equation. $ \\hat{y} = \\beta_0 + \\beta_i + \\epsilon $.\n",
    "\n",
    "Check this [cheat sheet](https://www.ibm.com/docs/en/watson-studio-local/1.2.3?topic=notebooks-markdown-jupyter-cheatsheet) on how to use markdown. "
   ]
  },
  {
   "cell_type": "markdown",
   "metadata": {},
   "source": [
    "### Syntax (run .py file, indentation, variables, comments)\n",
    "- We can run `.py` files on terminal\n",
    "    - `$ python hello_world.py`\n",
    "    - `$ python hello_world.py \"Hello, I am Josh\"` if there are arguments to pass\n",
    "- Python is sensitive to indention\n",
    "- Use `=` to assign values to a variable\n",
    "    - Python is case sensitive\n",
    "- Use `#` for single line comments or `''''''` or `\"\"\"\"\"\"` for multi-line comment"
   ]
  },
  {
   "cell_type": "code",
   "execution_count": 44,
   "metadata": {},
   "outputs": [],
   "source": [
    "# This code prints hello world\n",
    "print(\"Hello world\")\n",
    "\n",
    "# 3.14 = pi, 6 = radius, ** 2 = squared of the radius\n",
    "# area of a circle = pi r**2\n",
    "print(3.14 * 6 ** 2)\n",
    "\n",
    "\"\"\"\n",
    "This is a multi-line code \n",
    "I can just type anything I want to \n",
    "in paragraphs\n",
    "\"\"\"\n",
    "\n",
    "'''\n",
    "This is a multi-line code \n",
    "I can just type anything I want to \n",
    "in paragraphs\n",
    "'''"
   ]
  },
  {
   "cell_type": "code",
   "execution_count": 47,
   "metadata": {},
   "outputs": [],
   "source": [
    "person = \"Julia\""
   ]
  },
  {
   "cell_type": "markdown",
   "metadata": {},
   "source": [
    "### Variables\n",
    "- Variable naming rules\n",
    "    - A variable name must start with a letter or the underscore character\n",
    "    - A variable name cannot start with a number\n",
    "    - A variable name can only contain alpha-numeric characters and underscores (A-z, 0-9, and _ )\n",
    "    - Variable names are case-sensitive (age, Age and AGE are three different variables)\n",
    "    - A variable name cannot be any of the Python keywords.\n",
    "- Variable naming guided based on [PEP8](https://realpython.com/python-pep8/)\n",
    "    - snake_case = function, variable, method, module, package\n",
    "    - UPPER_CASE = constants\n",
    "    - camelCase or PascalCase = class \n",
    "- Use `=` to assign values to variables\n",
    "- Use `,` to separate different values and assign to multiple variables\n",
    "- Variables that are created outside of a function are called **global variables**"
   ]
  },
  {
   "cell_type": "code",
   "execution_count": 3,
   "metadata": {},
   "outputs": [
    {
     "name": "stdout",
     "output_type": "stream",
     "text": [
      "Dev\n",
      "Josh\n",
      "Space\n"
     ]
    }
   ],
   "source": [
    "last_name, first_name, middle_name = \"Dev\", \"Josh\", \"Space\"\n",
    "print(last_name)\n",
    "print(first_name)\n",
    "print(middle_name)"
   ]
  },
  {
   "cell_type": "code",
   "execution_count": 2,
   "metadata": {},
   "outputs": [
    {
     "name": "stdout",
     "output_type": "stream",
     "text": [
      "Python is cool!\n",
      "Python is awesome!\n"
     ]
    }
   ],
   "source": [
    "# Python variables basics\n",
    "my_name = \"Joshy\"\n",
    "my_age = 26\n",
    "fruits1, fruit2, fruit3 = \"apple\", \"banana\", \"orange\"\n",
    "\n",
    "x = \"awesome!\"\n",
    "def test_function():\n",
    "    x = \"cool!\"\n",
    "    print(\"Python is\", x)\n",
    "\n",
    "test_function()\n",
    "print(\"Python is\", x)"
   ]
  },
  {
   "cell_type": "markdown",
   "metadata": {},
   "source": [
    "### Data types and methods\n",
    "- Text Type: `str`\n",
    "- Numeric Types: `int`, `float`, `complex`\n",
    "- Sequence Types: `list`, `tuple`, `range`\n",
    "- Mapping Type: `dict`\n",
    "- Set Types: `set`, `frozenset`\n",
    "- Boolean Type: `bool`\n",
    "- Binary Types: `bytes`, `bytearray`, `memoryview`\n",
    "- None Type: `NoneType`"
   ]
  },
  {
   "cell_type": "code",
   "execution_count": 4,
   "metadata": {},
   "outputs": [
    {
     "name": "stdout",
     "output_type": "stream",
     "text": [
      "<class 'str'>\n",
      "<class 'int'>\n",
      "<class 'list'>\n",
      "<class 'dict'>\n",
      "<class 'bool'>\n",
      "<class 'NoneType'>\n"
     ]
    }
   ],
   "source": [
    "# Examples of data types\n",
    "my_name = \"Josh\"\n",
    "my_age = 26\n",
    "past_jobs = [\"agent\", \"trainer\", \"data associate\", \"bi specialist\"]\n",
    "past_jobs_exp = {\n",
    "    \"jobs\": past_jobs,\n",
    "    \"duration\": [1, 3, 2, 1.5]\n",
    "}\n",
    "currently_employed = True\n",
    "with_criminal_record = None\n",
    "\n",
    "# Print data type using `type` function\n",
    "print(type(my_name))\n",
    "print(type(my_age))\n",
    "print(type(past_jobs))\n",
    "print(type(past_jobs_exp))\n",
    "print(type(currently_employed))\n",
    "print(type(with_criminal_record))"
   ]
  },
  {
   "cell_type": "code",
   "execution_count": 5,
   "metadata": {},
   "outputs": [],
   "source": [
    "programming_language = \"Python\""
   ]
  },
  {
   "cell_type": "code",
   "execution_count": 6,
   "metadata": {},
   "outputs": [
    {
     "data": {
      "text/plain": [
       "'Python'"
      ]
     },
     "execution_count": 6,
     "metadata": {},
     "output_type": "execute_result"
    }
   ],
   "source": [
    "programming_language"
   ]
  },
  {
   "cell_type": "code",
   "execution_count": 7,
   "metadata": {},
   "outputs": [],
   "source": [
    "pi_of_a_circle = 3.14"
   ]
  },
  {
   "cell_type": "code",
   "execution_count": 20,
   "metadata": {},
   "outputs": [
    {
     "name": "stdout",
     "output_type": "stream",
     "text": [
      "26.0\n",
      "<class 'float'>\n",
      "26\n",
      "<class 'str'>\n",
      "1\n",
      "<class 'int'>\n"
     ]
    }
   ],
   "source": [
    "# To convert variables to other data types, use constructor functions\n",
    "print(float(my_age))\n",
    "print(type(float(my_age)))\n",
    "\n",
    "print(str(my_age))\n",
    "print(type(str(my_age)))\n",
    "\n",
    "print(int(currently_employed))\n",
    "print(type(int(currently_employed)))"
   ]
  },
  {
   "cell_type": "code",
   "execution_count": 43,
   "metadata": {},
   "outputs": [
    {
     "name": "stdout",
     "output_type": "stream",
     "text": [
      "  josh valdeleon  \n",
      "JOSHUA VALDELEON\n"
     ]
    }
   ],
   "source": [
    "# Replace characters\n",
    "print(my_full_name)\n",
    "print(my_full_name.replace(\"josh\", \"joshua\").upper().strip())"
   ]
  },
  {
   "cell_type": "code",
   "execution_count": 13,
   "metadata": {},
   "outputs": [
    {
     "name": "stdout",
     "output_type": "stream",
     "text": [
      "JOSH\n",
      "josh\n",
      "JOSH VALDELEON\n",
      "JOSHUA VALDELEON\n"
     ]
    }
   ],
   "source": [
    "# Some string methods\n",
    "# Change casing\n",
    "print(my_name.upper())\n",
    "print(my_name.lower())\n",
    "\n",
    "# Remove leading and trailing spaces\n",
    "my_full_name = \"  josh valdeleon  \"\n",
    "print(my_full_name.upper().strip())\n",
    "\n",
    "# Replace characters\n",
    "print(my_full_name.replace(\"josh\", \"joshua\").upper().strip())"
   ]
  },
  {
   "cell_type": "markdown",
   "metadata": {},
   "source": [
    "### Operators \n",
    "- Arithmetic operators `+`, `-`, `*`, `/`, `%`, `**`, `//`\n",
    "- Assignment operators `=`, `+=`, `-+` etc.\n",
    "- Comparison operators `==`, `!=`, `>`, `<`, `>=`, `<=`\n",
    "- Logical operators `and`, `or`, `not`\n",
    "- Identity operators `is`, `is not`\n",
    "- Membership operators `in`, `not in`\n",
    "- Bitwise operators `&`, `|`, `^`, `~`, `<<`, `>>`"
   ]
  },
  {
   "cell_type": "code",
   "execution_count": 62,
   "metadata": {},
   "outputs": [
    {
     "name": "stdout",
     "output_type": "stream",
     "text": [
      "python python python python python \n"
     ]
    }
   ],
   "source": [
    "print(\"python \" * 5)"
   ]
  },
  {
   "cell_type": "markdown",
   "metadata": {},
   "source": [
    "### Lists, Tuples, Dictionaries\n",
    "- List: `fruits = [\"apple\", \"banana\", \"cherry\"]`\n",
    "- Tuple: `fruits = (\"apple\", \"banana\", \"cherry\")`\n",
    "- Dictionary: `fruit_stand = {\"fruits\": [\"apple\", \"banana\", \"cherry\"], \"price\": [10, 20, 30]}`\n",
    "- You'll probably use lists for handling small sets of data, tuples for small and unchangeable data, and dictionary datasets with more definition.  "
   ]
  },
  {
   "cell_type": "code",
   "execution_count": 80,
   "metadata": {},
   "outputs": [
    {
     "name": "stdout",
     "output_type": "stream",
     "text": [
      "['apple', 'banana', 'cherry']\n",
      "['orange', 'banana', 'cherry']\n",
      "['orange', 'banana', 'cherry', 'papaya']\n",
      "['orange', 'banana', 'cherry']\n"
     ]
    }
   ],
   "source": [
    "basket = [\"apple\", \"banana\", \"cherry\"]\n",
    "print(basket)\n",
    "basket[0] = \"orange\"\n",
    "print(basket)\n",
    "basket.append(\"papaya\")\n",
    "print(basket)\n",
    "basket.remove(\"papaya\")\n",
    "print(basket)"
   ]
  },
  {
   "cell_type": "code",
   "execution_count": null,
   "metadata": {},
   "outputs": [],
   "source": [
    "# List sample\n",
    "fruits = [\"apple\", \"banana\", \"cherry\"]\n",
    "\n",
    "# Access an item in a list\n",
    "print(fruits[1]) # banana\n",
    "\n",
    "# Change item in a list\n",
    "fruits[1] = \"strawberry\"\n",
    "print(fruits)\n",
    "\n",
    "# Add item to a list\n",
    "fruits.append(\"banana\")\n",
    "print(fruits)\n",
    "\n",
    "# Remove item from a list\n",
    "fruits.pop(1) # remove by index\n",
    "fruits.remove(\"strawberry\") # remove by value"
   ]
  },
  {
   "cell_type": "code",
   "execution_count": 32,
   "metadata": {},
   "outputs": [
    {
     "name": "stdout",
     "output_type": "stream",
     "text": [
      "apple\n"
     ]
    }
   ],
   "source": [
    "# Tuple sample\n",
    "mytuple = (\"apple\", \"banana\", \"cherry\")\n",
    "\n",
    "# Access an item in a tuple\n",
    "print(mytuple[0])\n",
    "\n",
    "# Update an item in a tuple\n",
    "mytuple[1] = \"strawberry\" # throws an error\n",
    "# Alternative \n",
    "mytuple = list(mytuple)\n",
    "mytuple[1] = \"strawberry\"\n",
    "mytuple = tuple(mytuple)\n",
    "\n",
    "# Unpack tuples\n",
    "green, yellow, red = (\"apple\", \"banana\", \"cherry\")"
   ]
  },
  {
   "cell_type": "code",
   "execution_count": 81,
   "metadata": {},
   "outputs": [
    {
     "data": {
      "text/plain": [
       "{'name': ['Josh', 'Albert', 'Marie', 'Ruth'],\n",
       " 'age': [26, 95, 98, 99],\n",
       " 'sex': ['Male', 'Male', 'Female', 'Female']}"
      ]
     },
     "execution_count": 81,
     "metadata": {},
     "output_type": "execute_result"
    }
   ],
   "source": [
    "person = {\n",
    "    \"name\": [\"Josh\", \"Albert\", \"Marie\", \"Ruth\"],\n",
    "    \"age\": [26, 95, 98, 99],\n",
    "    \"sex\": [\"Male\", \"Male\", \"Female\", \"Female\"]\n",
    "}\n",
    "person"
   ]
  },
  {
   "cell_type": "code",
   "execution_count": 88,
   "metadata": {},
   "outputs": [],
   "source": []
  },
  {
   "cell_type": "code",
   "execution_count": 90,
   "metadata": {},
   "outputs": [],
   "source": [
    "person[\"name\"].append(\"Steve\")\n",
    "person[\"age\"].append(87)\n",
    "person[\"sex\"].append(\"Male\")"
   ]
  },
  {
   "cell_type": "code",
   "execution_count": 95,
   "metadata": {},
   "outputs": [
    {
     "name": "stdout",
     "output_type": "stream",
     "text": [
      "{'name': 'Josh', 'age': 26, 'sex': 'Male'}\n",
      "{'name': 'Joshua', 'age': 26, 'sex': 'Male'}\n",
      "{'name': 'Joshua', 'age': 26, 'sex': 'Male', 'school': 'PUP'}\n"
     ]
    }
   ],
   "source": [
    "person_single = {\n",
    "    \"name\": \"Josh\",\n",
    "    \"age\": 26,\n",
    "    \"sex\": \"Male\"\n",
    "}\n",
    "print(person_single)\n",
    "person_single[\"name\"] = \"Joshua\"\n",
    "print(person_single)\n",
    "person_single[\"school\"] = \"PUP\"\n",
    "print(person_single)"
   ]
  },
  {
   "cell_type": "code",
   "execution_count": 87,
   "metadata": {},
   "outputs": [
    {
     "name": "stdout",
     "output_type": "stream",
     "text": [
      "<class 'dict'>\n",
      "<class 'list'>\n",
      "<class 'int'>\n"
     ]
    }
   ],
   "source": [
    "print(type(person))\n",
    "print(type(person[\"age\"]))\n",
    "print(type(person[\"age\"][1]))"
   ]
  },
  {
   "cell_type": "code",
   "execution_count": 36,
   "metadata": {},
   "outputs": [
    {
     "name": "stdout",
     "output_type": "stream",
     "text": [
      "Mustang\n",
      "Mustang\n",
      "dict_keys(['brand', 'model', 'year'])\n",
      "dict_values(['Ford', 'Mustang', 1964])\n",
      "dict_items([('brand', 'Ford'), ('model', 'Mustang'), ('year', 1964)])\n"
     ]
    }
   ],
   "source": [
    "# Dictionary sample\n",
    "# Accessing items\n",
    "this_dictionary = {\n",
    "  \"brand\": \"Ford\",\n",
    "  \"model\": \"Mustang\",\n",
    "  \"year\": 1964\n",
    "}\n",
    "print(this_dictionary[\"model\"])\n",
    "print(this_dictionary.get(\"model\"))\n",
    "\n",
    "# Keys, Values, Items\n",
    "print(this_dictionary.keys())\n",
    "print(this_dictionary.values())\n",
    "print(this_dictionary.items())\n",
    "\n",
    "# Updating items\n",
    "this_dictionary[\"year\"] = 2018\n",
    "this_dictionary.update({\"year\": 2020})\n",
    "\n",
    "# Add items\n",
    "this_dictionary[\"color\"] = \"red\"\n",
    "this_dictionary.update[\"color\"] = \"red\""
   ]
  },
  {
   "cell_type": "markdown",
   "metadata": {},
   "source": [
    "### if-else, while loop, for loop\n",
    "- Remember, **indentation <u>matters</u>**"
   ]
  },
  {
   "cell_type": "code",
   "execution_count": 37,
   "metadata": {},
   "outputs": [
    {
     "name": "stdout",
     "output_type": "stream",
     "text": [
      "The color is red\n"
     ]
    }
   ],
   "source": [
    "# if-else sample\n",
    "x = \"red\"\n",
    "if x==\"red\":\n",
    "    print(\"The color is red\")\n",
    "elif x==\"blue\":\n",
    "    print(\"The color is blue\")\n",
    "else:\n",
    "    print(\"The color is neither red nor blue\")"
   ]
  },
  {
   "cell_type": "code",
   "execution_count": null,
   "metadata": {},
   "outputs": [],
   "source": [
    "# while loop sample\n",
    "x = 0\n",
    "while x < 10: # infinite loop ahead!\n",
    "    print(\"The value of x is {}\".format(x))\n",
    "    print(\"Adding 1 to x\")\n",
    "    print(\"The value of x is now {}\".format(x))\n",
    "\n",
    "x = 0\n",
    "while x < 10: # infinite loop ahead!\n",
    "    print(\"The value of x is {}\".format(x))\n",
    "    print(\"Adding 1 to x\")\n",
    "    x += 1\n",
    "    print(\"The value of x is now {}\".format(x))"
   ]
  },
  {
   "cell_type": "code",
   "execution_count": null,
   "metadata": {},
   "outputs": [],
   "source": [
    "# for loop sample\n",
    "x = 0\n",
    "for i in range(10): # infinite loop ahead!\n",
    "    print(\"The value of x is {}\".format(x))\n",
    "    print(\"Adding 1 to x\")\n",
    "    x += 1\n",
    "    print(\"The value of x is now {}\".format(x))"
   ]
  },
  {
   "cell_type": "code",
   "execution_count": 11,
   "metadata": {},
   "outputs": [
    {
     "name": "stdout",
     "output_type": "stream",
     "text": [
      "[2, 4, 6, 8, 10]\n",
      "[2, 4, 6, 8, 10]\n"
     ]
    }
   ],
   "source": [
    "# List comprehension\n",
    "even_numbers = []\n",
    "for i in range(2, 11, 2):\n",
    "    even_numbers.append(i)\n",
    "\n",
    "print(even_numbers)\n",
    "\n",
    "even_numbers = [i for i in range(2, 11, 2)]\n",
    "print(even_numbers)"
   ]
  },
  {
   "cell_type": "markdown",
   "metadata": {},
   "source": [
    "### Function\n",
    "- A function is a block of code which only runs when it is called. \n",
    "- You can pass data, known as parameters, into a function. \n",
    "- A function can return data as a result.\n",
    "```\n",
    "def func_name(parameters):\n",
    "    pass\n",
    "```"
   ]
  },
  {
   "cell_type": "code",
   "execution_count": 6,
   "metadata": {},
   "outputs": [
    {
     "name": "stdout",
     "output_type": "stream",
     "text": [
      "Hello, Josh! How are you?\n"
     ]
    }
   ],
   "source": [
    "def greet_person(name):\n",
    "    print(\"Hello, {}! How are you?\".format(name))\n",
    "\n",
    "greet_person(\"Josh\")"
   ]
  },
  {
   "cell_type": "code",
   "execution_count": 7,
   "metadata": {},
   "outputs": [
    {
     "data": {
      "text/plain": [
       "3"
      ]
     },
     "execution_count": 7,
     "metadata": {},
     "output_type": "execute_result"
    }
   ],
   "source": [
    "def add_values(n1, n2):\n",
    "    return n1 + n2\n",
    "\n",
    "add_values(1, 2)"
   ]
  },
  {
   "cell_type": "code",
   "execution_count": null,
   "metadata": {},
   "outputs": [
    {
     "data": {
      "text/plain": [
       "970"
      ]
     },
     "execution_count": 15,
     "metadata": {},
     "output_type": "execute_result"
    }
   ],
   "source": [
    "list_of_values = [x for x in range(1, 100, 5)]\n",
    "def add_multiple_values(list_of_values):\n",
    "    total = 0\n",
    "    for i in list_of_values:\n",
    "        total += i\n",
    "\n",
    "    return total\n",
    "\n",
    "add_multiple_values(list_of_values)"
   ]
  },
  {
   "cell_type": "markdown",
   "metadata": {},
   "source": [
    "### Classes\n",
    "- Python is an object oriented programming language.\n",
    "- Almost everything in Python is an object, with its properties and methods.\n",
    "- A Class is like an object constructor, or a \"blueprint\" for creating objects."
   ]
  },
  {
   "cell_type": "code",
   "execution_count": 38,
   "metadata": {},
   "outputs": [
    {
     "name": "stdout",
     "output_type": "stream",
     "text": [
      "Hello! I'm Jose Rizal. \n",
      "Hello! I'm Maria.\n"
     ]
    }
   ],
   "source": [
    "class Person:\n",
    "\n",
    "    def __init__(self, first_name, last_name, year_of_birth):\n",
    "        self.first_name = first_name\n",
    "        self.last_name = last_name\n",
    "        self.year_of_birth = year_of_birth\n",
    "\n",
    "    def get_age(self):\n",
    "        self.age = 2023 - self.year_of_birth\n",
    "\n",
    "    def get_full_name(self):\n",
    "        self.full_name = self.first_name + \" \" + self.last_name\n",
    "\n",
    "    def introduce(self, full_name=True):\n",
    "        if full_name:\n",
    "            self.get_full_name()\n",
    "            greeting = f\"Hello! I'm {self.full_name}. \"\n",
    "\n",
    "        else:\n",
    "            greeting = f\"Hello! I'm {self.first_name}.\"\n",
    "        \n",
    "        print(greeting)\n",
    "\n",
    "person = Person(first_name=\"Jose\", last_name=\"Rizal\", year_of_birth=1990)\n",
    "person2 = Person(first_name=\"Maria\", last_name=\"Clara\", year_of_birth=1990)\n",
    "\n",
    "person.introduce(full_name=True)\n",
    "person2.introduce(False)"
   ]
  },
  {
   "cell_type": "markdown",
   "metadata": {},
   "source": [
    "### Module\n",
    "- Consider a module to be the same as a code library."
   ]
  },
  {
   "cell_type": "code",
   "execution_count": 19,
   "metadata": {},
   "outputs": [
    {
     "name": "stdout",
     "output_type": "stream",
     "text": [
      "2023-09-01 20:13:24.262504\n"
     ]
    }
   ],
   "source": [
    "import datetime as dt\n",
    "print(dt.datetime.now())"
   ]
  },
  {
   "cell_type": "code",
   "execution_count": 20,
   "metadata": {},
   "outputs": [
    {
     "name": "stdout",
     "output_type": "stream",
     "text": [
      "2023-09-01 20:13:37.954697\n"
     ]
    }
   ],
   "source": [
    "from datetime import datetime as dt\n",
    "print(dt.now())"
   ]
  }
 ],
 "metadata": {
  "kernelspec": {
   "display_name": "Python 3",
   "language": "python",
   "name": "python3"
  },
  "language_info": {
   "codemirror_mode": {
    "name": "ipython",
    "version": 3
   },
   "file_extension": ".py",
   "mimetype": "text/x-python",
   "name": "python",
   "nbconvert_exporter": "python",
   "pygments_lexer": "ipython3",
   "version": "3.11.3"
  },
  "orig_nbformat": 4
 },
 "nbformat": 4,
 "nbformat_minor": 2
}
